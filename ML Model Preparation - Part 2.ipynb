{
 "cells": [
  {
   "cell_type": "markdown",
   "id": "11ea5854",
   "metadata": {},
   "source": [
    "# ML Capstone 1 - Part 2 E-Commerce Customer Segmentation"
   ]
  },
  {
   "cell_type": "markdown",
   "id": "37fbf4e4",
   "metadata": {},
   "source": [
    " ## TODO\n",
    " \n",
    " ### Feature Selection\n",
    "- Selecting relevant features for segmentation and classification based on EDA insights\n",
    "- Scaling numerical features and encoding categorical variables\n",
    "\n",
    "### Model Preparation\n",
    "- Preparing the dataset for clustering algorithms and classification models\n"
   ]
  },
  {
   "cell_type": "markdown",
   "id": "2a6546ac",
   "metadata": {},
   "source": [
    "### Grading and Important Instructions\n",
    "- Each of the above steps are mandatory and should be completed in good faith\n",
    "- Make sure before submitting that the code is in fully working condition\n",
    "- It is fine to make use of ChatGPT, stackoverflow type resources, just provide the reference links from where you got it\n",
    "- Debugging is an art, if you find yourself stuck with errors, take help of stackoverflow and ChatGPT to resolve the issue and if it's still unresolved, reach out to me for help.\n",
    "- You need to score atleast 7/10 to pass the project, anything less than that will be marked required, needing resubmission.\n",
    "- Feedback will be provided on 3 levels (Awesome, Suggestion, & Required). Required changes are mandatory to be made.\n",
    "- For submission, please upload the project on github and share the link to the file with us through LMS."
   ]
  },
  {
   "cell_type": "markdown",
   "id": "bf95784c",
   "metadata": {},
   "source": [
    "#### Write your code below and do not delete the above instructions"
   ]
  },
  {
   "cell_type": "markdown",
   "id": "88a62482",
   "metadata": {},
   "source": []
  },
  {
   "cell_type": "code",
   "execution_count": 1,
   "id": "09e37ee9",
   "metadata": {},
   "outputs": [],
   "source": [
    "# Import necessary libraries\n",
    "import pandas as pd\n",
    "import numpy as np\n",
    "from sklearn.preprocessing import StandardScaler, MinMaxScaler, OneHotEncoder\n",
    "from sklearn.decomposition import PCA\n",
    "from sklearn.model_selection import train_test_split\n",
    "import matplotlib.pyplot as plt"
   ]
  },
  {
   "cell_type": "markdown",
   "id": "920319a6",
   "metadata": {},
   "source": [
    "Loading the dataset which is already pre-processed.\n",
    "The dataset has been cleaned to handle the missing values, duplicates and outliers"
   ]
  },
  {
   "cell_type": "code",
   "execution_count": 2,
   "id": "4412c75f",
   "metadata": {},
   "outputs": [],
   "source": [
    "# The csv file is cleaned\n",
    "\n",
    "# Loading the dataset\n",
    "data = pd.read_csv(\"ecommerce_data_cleaned.csv\")\n",
    "#encoding='ISO-8859-1'\n"
   ]
  },
  {
   "cell_type": "markdown",
   "id": "62ce0bea",
   "metadata": {},
   "source": [
    "# Feature Selection\n",
    "\n",
    "Ensuring 'TotalAmount' exists"
   ]
  },
  {
   "cell_type": "code",
   "execution_count": 4,
   "id": "f43bc9a7",
   "metadata": {},
   "outputs": [],
   "source": [
    "if 'TotalAmount' not in data.columns:\n",
    "    data['TotalAmount'] = data['Quantity'] * data['UnitPrice']\n",
    "\n",
    "# Selecting numerical and categorical features\n",
    "numerical_features = ['Quantity', 'UnitPrice', 'TotalAmount']\n",
    "categorical_features = ['Country'] if 'Country' in data.columns else []\n"
   ]
  },
  {
   "cell_type": "code",
   "execution_count": 5,
   "id": "59c0e671",
   "metadata": {},
   "outputs": [],
   "source": [
    "if categorical_features:\n",
    "    encoder = OneHotEncoder(sparse=False, drop='first')  \n",
    "    encoded_features = encoder.fit_transform(data[categorical_features])\n",
    "    encoded_feature_names = encoder.get_feature_names_out(categorical_features)\n",
    "    encoded_df = pd.DataFrame(encoded_features, columns=encoded_feature_names)\n",
    "    data = pd.concat([data.reset_index(drop=True), encoded_df], axis=1)"
   ]
  },
  {
   "cell_type": "markdown",
   "id": "fbbd83f2",
   "metadata": {},
   "source": [
    "Encoding categorical features using OneHotEncoding and dropping first to avoid multicollinearity"
   ]
  },
  {
   "cell_type": "code",
   "execution_count": 7,
   "id": "1d8d468d",
   "metadata": {},
   "outputs": [],
   "source": [
    "# Dropping original categorical columns\n",
    "data = data.drop(columns=categorical_features)"
   ]
  },
  {
   "cell_type": "markdown",
   "id": "ba9c037a",
   "metadata": {},
   "source": [
    "# Model Preparation\n",
    "\n",
    "Normalization/Standardization\n",
    "\n",
    "Min-Max Normalization for Clustering"
   ]
  },
  {
   "cell_type": "code",
   "execution_count": 8,
   "id": "5190c73e",
   "metadata": {},
   "outputs": [],
   "source": [
    "scaler_minmax = MinMaxScaler()\n",
    "data_normalized = scaler_minmax.fit_transform(data[numerical_features])\n",
    "\n",
    "# Standardization for Classification\n",
    "scaler_standard = StandardScaler()\n",
    "data_standardized = scaler_standard.fit_transform(data[numerical_features])\n"
   ]
  },
  {
   "cell_type": "code",
   "execution_count": 9,
   "id": "9ab20889",
   "metadata": {},
   "outputs": [],
   "source": [
    "# Adding scaled features to the dataset\n",
    "data_normalized_df = pd.DataFrame(data_normalized, columns=[f\"{col}_normalized\" for col in numerical_features])\n",
    "data_standardized_df = pd.DataFrame(data_standardized, columns=[f\"{col}_standardized\" for col in numerical_features])\n",
    "data = pd.concat([data, data_normalized_df, data_standardized_df], axis=1)"
   ]
  },
  {
   "cell_type": "code",
   "execution_count": 10,
   "id": "0d25b141",
   "metadata": {},
   "outputs": [],
   "source": [
    "# Dimensionality Reduction (PCA for Clustering)\n",
    "pca = PCA(n_components=2)  \n",
    "# Reducing to 2 dimensions for visualization or clustering\n",
    "\n",
    "data_pca = pca.fit_transform(data_normalized)\n",
    "\n",
    "# Adding PCA results to the dataset\n",
    "data['PCA_1'] = data_pca[:, 0]\n",
    "data['PCA_2'] = data_pca[:, 1]\n"
   ]
  },
  {
   "cell_type": "code",
   "execution_count": 11,
   "id": "25a3f4ee",
   "metadata": {},
   "outputs": [],
   "source": [
    "# Data Splitting (For Classification)\n",
    "# Assuming 'Cluster' column exists or generating a synthetic target for demonstration\n",
    "if 'Cluster' not in data.columns:\n",
    "    data['Cluster'] = np.random.randint(0, 4, size=len(data))  # Simulate clusters"
   ]
  },
  {
   "cell_type": "markdown",
   "id": "f2a33465",
   "metadata": {},
   "source": [
    "Splitting data into training, validation, and test sets"
   ]
  },
  {
   "cell_type": "code",
   "execution_count": 12,
   "id": "1ec954eb",
   "metadata": {},
   "outputs": [],
   "source": [
    " \n",
    "X = data.drop(columns=['Cluster'])  # Features\n",
    "y = data['Cluster']  # Target\n",
    "\n",
    "X_train, X_temp, y_train, y_temp = train_test_split(X, y, test_size=0.3, stratify=y, random_state=42)\n",
    "X_val, X_test, y_val, y_test = train_test_split(X_temp, y_temp, test_size=0.5, stratify=y_temp, random_state=42)\n",
    "\n"
   ]
  },
  {
   "cell_type": "markdown",
   "id": "82cdcad2",
   "metadata": {},
   "source": [
    "# Display results\n",
    "Display the prepared dataset and splits using standard print statements"
   ]
  },
  {
   "cell_type": "code",
   "execution_count": 14,
   "id": "b83ad56e",
   "metadata": {},
   "outputs": [
    {
     "name": "stdout",
     "output_type": "stream",
     "text": [
      "Prepared Dataset (sample):\n",
      "   InvoiceNo StockCode                          Description  Quantity  \\\n",
      "0     536365    85123A   WHITE HANGING HEART T-LIGHT HOLDER         6   \n",
      "1     536365     71053                  WHITE METAL LANTERN         6   \n",
      "2     536365    84406B       CREAM CUPID HEARTS COAT HANGER         8   \n",
      "3     536365    84029G  KNITTED UNION FLAG HOT WATER BOTTLE         6   \n",
      "4     536365    84029E       RED WOOLLY HOTTIE WHITE HEART.         6   \n",
      "\n",
      "           InvoiceDate  UnitPrice  CustomerID  Country_Austria  \\\n",
      "0  2010-12-01 08:26:00       2.55     17850.0                0   \n",
      "1  2010-12-01 08:26:00       3.39     17850.0                0   \n",
      "2  2010-12-01 08:26:00       2.75     17850.0                0   \n",
      "3  2010-12-01 08:26:00       3.39     17850.0                0   \n",
      "4  2010-12-01 08:26:00       3.39     17850.0                0   \n",
      "\n",
      "   Country_Bahrain  Country_Belgium  ...  TotalAmount  Quantity_normalized  \\\n",
      "0                0                0  ...        15.30             0.043103   \n",
      "1                0                0  ...        20.34             0.043103   \n",
      "2                0                0  ...        22.00             0.060345   \n",
      "3                0                0  ...        20.34             0.043103   \n",
      "4                0                0  ...        20.34             0.043103   \n",
      "\n",
      "   UnitPrice_normalized  TotalAmount_normalized  Quantity_standardized  \\\n",
      "0              0.175201                0.012475              -0.275309   \n",
      "1              0.232937                0.016584              -0.275309   \n",
      "2              0.188948                0.017938              -0.132546   \n",
      "3              0.232937                0.016584              -0.275309   \n",
      "4              0.232937                0.016584              -0.275309   \n",
      "\n",
      "   UnitPrice_standardized  TotalAmount_standardized     PCA_1     PCA_2  \\\n",
      "0               -0.060574                 -0.079716  0.000762 -0.034671   \n",
      "1                0.279941                  0.093699  0.055557 -0.016047   \n",
      "2                0.020501                  0.150816  0.008382 -0.013383   \n",
      "3                0.279941                  0.093699  0.055557 -0.016047   \n",
      "4                0.279941                  0.093699  0.055557 -0.016047   \n",
      "\n",
      "   Cluster  \n",
      "0        2  \n",
      "1        3  \n",
      "2        1  \n",
      "3        0  \n",
      "4        1  \n",
      "\n",
      "[5 rows x 57 columns]\n",
      "\n",
      "Training Set (sample):\n",
      "        InvoiceNo StockCode                         Description  Quantity  \\\n",
      "199047     562670     23149       ANTIQUE IVORY WIRE BOWL SMALL         6   \n",
      "220935     565411     23191        BUNDLE OF 3 RETRO NOTE BOOKS         3   \n",
      "246512     568098     23295    SET OF 12 MINI LOAF BAKING CASES         8   \n",
      "115750     551966     22426              ENAMEL WASH BOWL CREAM         1   \n",
      "4543       536988     20967  GREY FLORAL FELTCRAFT SHOULDER BAG         2   \n",
      "\n",
      "                InvoiceDate  UnitPrice  CustomerID  Country_Austria  \\\n",
      "199047  2011-08-08 13:42:00       2.49     14911.0                0   \n",
      "220935  2011-09-04 11:22:00       1.65     13772.0                0   \n",
      "246512  2011-09-23 15:17:00       0.83     15762.0                0   \n",
      "115750  2011-05-05 13:14:00       3.75     15356.0                0   \n",
      "4543    2010-12-03 15:05:00       3.75     17238.0                0   \n",
      "\n",
      "        Country_Bahrain  Country_Belgium  ...  Hour  TotalAmount  \\\n",
      "199047                0                0  ...    13        14.94   \n",
      "220935                0                0  ...    11         4.95   \n",
      "246512                0                0  ...    15         6.64   \n",
      "115750                0                0  ...    13         3.75   \n",
      "4543                  0                0  ...    15         7.50   \n",
      "\n",
      "        Quantity_normalized  UnitPrice_normalized  TotalAmount_normalized  \\\n",
      "199047             0.043103              0.171077                0.012181   \n",
      "220935             0.017241              0.113341                0.004035   \n",
      "246512             0.060345              0.056980                0.005413   \n",
      "115750             0.000000              0.257681                0.003057   \n",
      "4543               0.008621              0.257681                0.006115   \n",
      "\n",
      "        Quantity_standardized  UnitPrice_standardized  \\\n",
      "199047              -0.275309               -0.084897   \n",
      "220935              -0.489452               -0.425413   \n",
      "246512              -0.132546               -0.757821   \n",
      "115750              -0.632214                0.425877   \n",
      "4543                -0.560833                0.425877   \n",
      "\n",
      "        TotalAmount_standardized     PCA_1     PCA_2  \n",
      "199047                 -0.092103 -0.003152 -0.036002  \n",
      "220935                 -0.435836 -0.049792 -0.079497  \n",
      "246512                 -0.377687 -0.116884 -0.056432  \n",
      "115750                 -0.477125  0.092582 -0.050823  \n",
      "4543                   -0.348096  0.089874 -0.042272  \n",
      "\n",
      "[5 rows x 56 columns]\n",
      "\n",
      "Validation Set (sample):\n",
      "        InvoiceNo StockCode                          Description  Quantity  \\\n",
      "316871     574896    85199S    SMALL HANGING IVORY/RED WOOD BIRD         1   \n",
      "333826     576593     22909  SET OF 20 VINTAGE CHRISTMAS NAPKINS         2   \n",
      "187889     561355     21326     AGED GLASS SILVER T-LIGHT HOLDER        12   \n",
      "38633      541847     22079           RIBBON REEL HEARTS DESIGN          5   \n",
      "79         536375     22752         SET 7 BABUSHKA NESTING BOXES         2   \n",
      "\n",
      "                InvoiceDate  UnitPrice  CustomerID  Country_Austria  \\\n",
      "316871  2011-11-07 14:51:00       0.42     17014.0                0   \n",
      "333826  2011-11-15 14:48:00       0.85     15720.0                0   \n",
      "187889  2011-07-26 14:51:00       0.65     13090.0                0   \n",
      "38633   2011-01-23 13:25:00       1.65     15443.0                0   \n",
      "79      2010-12-01 09:32:00       7.65     17850.0                0   \n",
      "\n",
      "        Country_Bahrain  Country_Belgium  ...  Hour  TotalAmount  \\\n",
      "316871                0                0  ...    14         0.42   \n",
      "333826                0                0  ...    14         1.70   \n",
      "187889                0                0  ...    14         7.80   \n",
      "38633                 0                0  ...    13         8.25   \n",
      "79                    0                0  ...     9        15.30   \n",
      "\n",
      "        Quantity_normalized  UnitPrice_normalized  TotalAmount_normalized  \\\n",
      "316871             0.000000              0.028799                0.000342   \n",
      "333826             0.008621              0.058355                0.001385   \n",
      "187889             0.094828              0.044608                0.006359   \n",
      "38633              0.034483              0.113341                0.006726   \n",
      "79                 0.008621              0.525741                0.012475   \n",
      "\n",
      "        Quantity_standardized  UnitPrice_standardized  \\\n",
      "316871              -0.632214               -0.924025   \n",
      "333826              -0.560833               -0.749714   \n",
      "187889               0.152978               -0.830789   \n",
      "38633               -0.346690               -0.425413   \n",
      "79                  -0.560833                2.006843   \n",
      "\n",
      "        TotalAmount_standardized     PCA_1     PCA_2  \n",
      "316871                 -0.591703 -0.124561 -0.122583  \n",
      "333826                 -0.547661 -0.099244 -0.105127  \n",
      "187889                 -0.337774 -0.139521 -0.027806  \n",
      "38633                  -0.322290 -0.055229 -0.062917  \n",
      "79                     -0.079716  0.344205  0.042257  \n",
      "\n",
      "[5 rows x 56 columns]\n",
      "\n",
      "Test Set (sample):\n",
      "        InvoiceNo StockCode                          Description  Quantity  \\\n",
      "242549     567700     22621           TRADITIONAL KNITTING NANCY        12   \n",
      "278331     571218     23376  PACK OF 12 VINTAGE CHRISTMAS TISSUE        24   \n",
      "294554     572726     23500     KEY RING BASEBALL BOOT ASSORTED         20   \n",
      "244298     567898     23551     PACK OF 12 PAISLEY PARK TISSUES         24   \n",
      "349065     578041     85066          CREAM SWEETHEART MINI CHEST         2   \n",
      "\n",
      "                InvoiceDate  UnitPrice  CustomerID  Country_Austria  \\\n",
      "242549  2011-09-22 09:33:00       1.65     16379.0                0   \n",
      "278331  2011-10-14 13:24:00       0.39     17451.0                0   \n",
      "294554  2011-10-25 15:19:00       1.25     16056.0                0   \n",
      "244298  2011-09-22 16:20:00       0.39     13394.0                0   \n",
      "349065  2011-11-22 14:23:00      12.75     17338.0                0   \n",
      "\n",
      "        Country_Bahrain  Country_Belgium  ...  Hour  TotalAmount  \\\n",
      "242549                0                0  ...     9        19.80   \n",
      "278331                0                0  ...    13         9.36   \n",
      "294554                0                0  ...    15        25.00   \n",
      "244298                0                0  ...    16         9.36   \n",
      "349065                0                0  ...    14        25.50   \n",
      "\n",
      "        Quantity_normalized  UnitPrice_normalized  TotalAmount_normalized  \\\n",
      "242549             0.094828              0.113341                0.016144   \n",
      "278331             0.198276              0.026737                0.007631   \n",
      "294554             0.163793              0.085848                0.020384   \n",
      "244298             0.198276              0.026737                0.007631   \n",
      "349065             0.008621              0.876280                0.020792   \n",
      "\n",
      "        Quantity_standardized  UnitPrice_standardized  \\\n",
      "242549               0.152978               -0.425413   \n",
      "278331               1.009550               -0.936187   \n",
      "294554               0.724026               -0.587563   \n",
      "244298               1.009550               -0.936187   \n",
      "349065              -0.560833                4.074261   \n",
      "\n",
      "        TotalAmount_standardized     PCA_1     PCA_2  \n",
      "242549                  0.075119 -0.074259 -0.004886  \n",
      "278331                 -0.284098 -0.189186  0.063833  \n",
      "294554                  0.254039 -0.122128  0.051869  \n",
      "244298                 -0.284098 -0.189186  0.063833  \n",
      "349065                  0.271243  0.676792  0.152795  \n",
      "\n",
      "[5 rows x 56 columns]\n",
      "\n",
      "Feature engineering, normalization, and data splitting complete.\n"
     ]
    }
   ],
   "source": [
    "\n",
    "print(\"Prepared Dataset (sample):\")\n",
    "print(data.head())\n",
    "\n",
    "print(\"\\nTraining Set (sample):\")\n",
    "print(X_train.head())\n",
    "\n",
    "print(\"\\nValidation Set (sample):\")\n",
    "print(X_val.head())\n",
    "\n",
    "print(\"\\nTest Set (sample):\")\n",
    "print(X_test.head())\n",
    "\n",
    "print(\"\\nFeature engineering, normalization, and data splitting complete.\")"
   ]
  }
 ],
 "metadata": {
  "kernelspec": {
   "display_name": "Python 3 (ipykernel)",
   "language": "python",
   "name": "python3"
  },
  "language_info": {
   "codemirror_mode": {
    "name": "ipython",
    "version": 3
   },
   "file_extension": ".py",
   "mimetype": "text/x-python",
   "name": "python",
   "nbconvert_exporter": "python",
   "pygments_lexer": "ipython3",
   "version": "3.9.13"
  }
 },
 "nbformat": 4,
 "nbformat_minor": 5
}
